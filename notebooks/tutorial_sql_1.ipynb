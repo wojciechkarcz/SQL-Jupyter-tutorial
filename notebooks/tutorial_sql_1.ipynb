{
 "cells": [
  {
   "attachments": {},
   "cell_type": "markdown",
   "metadata": {},
   "source": [
    "# SQL in Jupyter tutorial (part 1)\n",
    "### How to create a SQLite database from csv files  \n",
    "\n",
    "In this notebook, I present a simple way to create a SQLite database from any data saved in csv format. For the purposes of this example, I created fake data in the form of two files: 'clients.csv' and 'transactions.csv' located in the /data folder.  \n",
    "To create fake data, I used the tool https://www.mockaroo.com/, which I highly recommend if you need test data."
   ]
  },
  {
   "attachments": {},
   "cell_type": "markdown",
   "metadata": {},
   "source": [
    "First, we import the appropriate Python libraries. If you don't have them installed, you need to do it now."
   ]
  },
  {
   "cell_type": "code",
   "execution_count": 2,
   "metadata": {},
   "outputs": [],
   "source": [
    "import sqlite3\n",
    "from pathlib import Path\n",
    "import pandas as pd"
   ]
  },
  {
   "attachments": {},
   "cell_type": "markdown",
   "metadata": {},
   "source": [
    "Next, we'll create an empty 'test.db' database file and connect to it using the sqlite3 library."
   ]
  },
  {
   "cell_type": "code",
   "execution_count": 4,
   "metadata": {},
   "outputs": [],
   "source": [
    "# Creating empty file with sqlite database\n",
    "Path(\"test.db\").touch()\n",
    "\n",
    "# Connect to database\n",
    "conn = sqlite3.connect(\"test.db\")\n",
    "c = conn.cursor()"
   ]
  },
  {
   "attachments": {},
   "cell_type": "markdown",
   "metadata": {},
   "source": [
    "At this stage, we create tables in the newly created 'test.db' database, which contain exactly the same column names as in the corresponding csv files. Also we need to define datatypes for each column. There are only a few basic datatypes in SQLite and detailed documentation can be found at: https://www.sqlite.org/datatype3.html \n",
    "\n"
   ]
  },
  {
   "attachments": {},
   "cell_type": "markdown",
   "metadata": {},
   "source": [
    "Fragment of 'clients.csv' file\n",
    "\n",
    "<img src='/../img/clients.png' width='50%'>\n",
    " "
   ]
  },
  {
   "cell_type": "code",
   "execution_count": 7,
   "metadata": {},
   "outputs": [
    {
     "data": {
      "text/plain": [
       "<sqlite3.Cursor at 0x2e89a15f180>"
      ]
     },
     "execution_count": 7,
     "metadata": {},
     "output_type": "execute_result"
    }
   ],
   "source": [
    "# Creating the table 'clients'\n",
    "\n",
    "c.execute(\n",
    "    \"\"\"CREATE TABLE clients (\n",
    "    id int, name text, gender text,\n",
    "    city text, country text \n",
    "    );\"\"\"\n",
    ")"
   ]
  },
  {
   "attachments": {},
   "cell_type": "markdown",
   "metadata": {},
   "source": [
    "Fragment of 'transactions.csv' file\n",
    "\n",
    "<img src='img/transactions.png' width='50%'>"
   ]
  },
  {
   "cell_type": "code",
   "execution_count": 11,
   "metadata": {},
   "outputs": [
    {
     "data": {
      "text/plain": [
       "<sqlite3.Cursor at 0x2e89a15f180>"
      ]
     },
     "execution_count": 11,
     "metadata": {},
     "output_type": "execute_result"
    }
   ],
   "source": [
    "# Creating the table 'transactions'\n",
    "\n",
    "c.execute(\n",
    "    \"\"\"CREATE TABLE transactions (\n",
    "    id int, amount int, category text,\n",
    "    date text, time text, \n",
    "    credit_card text\n",
    "    );\"\"\"\n",
    ")"
   ]
  },
  {
   "attachments": {},
   "cell_type": "markdown",
   "metadata": {},
   "source": [
    "Finally, you need to import each csv file as a pandas dataframe and use the to_sql() function to export the data to the appropriate table in the SQLite database.."
   ]
  },
  {
   "cell_type": "code",
   "execution_count": 8,
   "metadata": {},
   "outputs": [
    {
     "data": {
      "text/plain": [
       "30"
      ]
     },
     "execution_count": 8,
     "metadata": {},
     "output_type": "execute_result"
    }
   ],
   "source": [
    "# Open csv file\n",
    "db = pd.read_csv(\"data/clients.csv\")\n",
    "\n",
    "# Add table to database\n",
    "db.to_sql(\"clients\", conn, if_exists=\"append\", index=False)"
   ]
  },
  {
   "cell_type": "code",
   "execution_count": 12,
   "metadata": {},
   "outputs": [
    {
     "data": {
      "text/plain": [
       "1000"
      ]
     },
     "execution_count": 12,
     "metadata": {},
     "output_type": "execute_result"
    }
   ],
   "source": [
    "# Open csv file\n",
    "db = pd.read_csv(\"data/transactions.csv\")\n",
    "\n",
    "# Add table to database\n",
    "db.to_sql(\"transactions\", conn, if_exists=\"append\", index=False)"
   ]
  },
  {
   "attachments": {},
   "cell_type": "markdown",
   "metadata": {},
   "source": [
    "Now we have a 'test.db' file with an SQLite database containing two tables. We can now edit, manage or browse the database using any SQL editor or IDE. In the next notebook, I'll show you how Jupyter can be used to do this."
   ]
  }
 ],
 "metadata": {
  "kernelspec": {
   "display_name": "pysql",
   "language": "python",
   "name": "python3"
  },
  "language_info": {
   "codemirror_mode": {
    "name": "ipython",
    "version": 3
   },
   "file_extension": ".py",
   "mimetype": "text/x-python",
   "name": "python",
   "nbconvert_exporter": "python",
   "pygments_lexer": "ipython3",
   "version": "3.8.5"
  },
  "orig_nbformat": 4,
  "vscode": {
   "interpreter": {
    "hash": "09d6e341777874bbc0cfccde3c6d0224cb07a66fa0664d1a9bec1a0ff68020ff"
   }
  }
 },
 "nbformat": 4,
 "nbformat_minor": 2
}
