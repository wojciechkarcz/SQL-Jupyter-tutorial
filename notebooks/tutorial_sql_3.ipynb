{
 "cells": [
  {
   "attachments": {},
   "cell_type": "markdown",
   "metadata": {},
   "source": [
    "# SQL in Jupyter tutorial (part 3)\n",
    "### How to visualize data from SQL query\n",
    "\n",
    "Sometimes when analyzing data, it is useful to quickly visualize the data rather than just displaying it in the form of a table. Thanks to the fact that we use Jupyter, we have access to all Python functions and its libraries, such as pandas or matplotlib, which allow us to create a plot using only 2 lines of code."
   ]
  },
  {
   "attachments": {},
   "cell_type": "markdown",
   "metadata": {},
   "source": [
    "Pandas and matplotlib libraries import."
   ]
  },
  {
   "cell_type": "code",
   "execution_count": 1,
   "metadata": {},
   "outputs": [],
   "source": [
    "import matplotlib.pyplot as plt\n",
    "import pandas as pd"
   ]
  },
  {
   "attachments": {},
   "cell_type": "markdown",
   "metadata": {},
   "source": [
    "Connecting to the databse."
   ]
  },
  {
   "cell_type": "code",
   "execution_count": 2,
   "metadata": {
    "vscode": {
     "languageId": "sql"
    }
   },
   "outputs": [],
   "source": [
    "%load_ext sql"
   ]
  },
  {
   "cell_type": "code",
   "execution_count": 3,
   "metadata": {
    "vscode": {
     "languageId": "sql"
    }
   },
   "outputs": [
    {
     "data": {
      "text/plain": [
       "'Connected: @test.db'"
      ]
     },
     "execution_count": 3,
     "metadata": {},
     "output_type": "execute_result"
    }
   ],
   "source": [
    "%sql sqlite:///data/test.db"
   ]
  },
  {
   "attachments": {},
   "cell_type": "markdown",
   "metadata": {},
   "source": [
    "Displaying all tables in the 'test.db' database. "
   ]
  },
  {
   "cell_type": "code",
   "execution_count": 4,
   "metadata": {
    "vscode": {
     "languageId": "sql"
    }
   },
   "outputs": [
    {
     "name": "stdout",
     "output_type": "stream",
     "text": [
      " * sqlite:///test.db\n",
      "Done.\n"
     ]
    },
    {
     "data": {
      "text/html": [
       "<table>\n",
       "    <thead>\n",
       "        <tr>\n",
       "            <th>name</th>\n",
       "        </tr>\n",
       "    </thead>\n",
       "    <tbody>\n",
       "        <tr>\n",
       "            <td>clients</td>\n",
       "        </tr>\n",
       "        <tr>\n",
       "            <td>transactions</td>\n",
       "        </tr>\n",
       "    </tbody>\n",
       "</table>"
      ],
      "text/plain": [
       "[('clients',), ('transactions',)]"
      ]
     },
     "execution_count": 4,
     "metadata": {},
     "output_type": "execute_result"
    }
   ],
   "source": [
    "%%sql\n",
    "SELECT name FROM sqlite_master WHERE type='table';"
   ]
  },
  {
   "attachments": {},
   "cell_type": "markdown",
   "metadata": {},
   "source": [
    "For example, we want to check the top 10 categories where the largest payments were made."
   ]
  },
  {
   "cell_type": "code",
   "execution_count": 5,
   "metadata": {
    "vscode": {
     "languageId": "sql"
    }
   },
   "outputs": [
    {
     "name": "stdout",
     "output_type": "stream",
     "text": [
      " * sqlite:///test.db\n",
      "Done.\n"
     ]
    },
    {
     "data": {
      "text/html": [
       "<table>\n",
       "    <thead>\n",
       "        <tr>\n",
       "            <th>category</th>\n",
       "            <th>total</th>\n",
       "        </tr>\n",
       "    </thead>\n",
       "    <tbody>\n",
       "        <tr>\n",
       "            <td>Beauty</td>\n",
       "            <td>15920</td>\n",
       "        </tr>\n",
       "        <tr>\n",
       "            <td>Music</td>\n",
       "            <td>15817</td>\n",
       "        </tr>\n",
       "        <tr>\n",
       "            <td>Toys</td>\n",
       "            <td>14721</td>\n",
       "        </tr>\n",
       "        <tr>\n",
       "            <td>Sports</td>\n",
       "            <td>14128</td>\n",
       "        </tr>\n",
       "        <tr>\n",
       "            <td>Industrial</td>\n",
       "            <td>13271</td>\n",
       "        </tr>\n",
       "        <tr>\n",
       "            <td>Movies</td>\n",
       "            <td>13134</td>\n",
       "        </tr>\n",
       "        <tr>\n",
       "            <td>Kids</td>\n",
       "            <td>12574</td>\n",
       "        </tr>\n",
       "        <tr>\n",
       "            <td>Tools</td>\n",
       "            <td>12489</td>\n",
       "        </tr>\n",
       "        <tr>\n",
       "            <td>Shoes</td>\n",
       "            <td>12389</td>\n",
       "        </tr>\n",
       "        <tr>\n",
       "            <td>Books</td>\n",
       "            <td>11882</td>\n",
       "        </tr>\n",
       "    </tbody>\n",
       "</table>"
      ],
      "text/plain": [
       "[('Beauty', 15920),\n",
       " ('Music', 15817),\n",
       " ('Toys', 14721),\n",
       " ('Sports', 14128),\n",
       " ('Industrial', 13271),\n",
       " ('Movies', 13134),\n",
       " ('Kids', 12574),\n",
       " ('Tools', 12489),\n",
       " ('Shoes', 12389),\n",
       " ('Books', 11882)]"
      ]
     },
     "execution_count": 5,
     "metadata": {},
     "output_type": "execute_result"
    }
   ],
   "source": [
    "%%sql\n",
    "SELECT category, SUM(amount) AS total FROM transactions\n",
    "GROUP BY category\n",
    "ORDER BY total DESC\n",
    "LIMIT 10\n",
    ";"
   ]
  },
  {
   "attachments": {},
   "cell_type": "markdown",
   "metadata": {},
   "source": [
    "To create a simple plot, all you need to do is convert the SQL query result to a pandas dataframe and then use the plot() function. Tip: you can use a backslash ``` \\ ``` as a line continuation character."
   ]
  },
  {
   "cell_type": "code",
   "execution_count": 13,
   "metadata": {},
   "outputs": [
    {
     "name": "stdout",
     "output_type": "stream",
     "text": [
      " * sqlite:///test.db\n",
      "Done.\n"
     ]
    }
   ],
   "source": [
    "# Storing results of the SQL query in the 'data' variable\n",
    "data = %sql SELECT category, SUM(amount) AS total FROM transactions \\\n",
    "GROUP BY category \\\n",
    "ORDER BY total DESC \\\n",
    "LIMIT 10;\n",
    "\n",
    "# Converting result of the query to the pandas DataFrame\n",
    "data = data.DataFrame()"
   ]
  },
  {
   "attachments": {},
   "cell_type": "markdown",
   "metadata": {},
   "source": [
    "As you can see, the **data** variable is now a pandas DataFrame object."
   ]
  },
  {
   "cell_type": "code",
   "execution_count": 16,
   "metadata": {},
   "outputs": [
    {
     "name": "stdout",
     "output_type": "stream",
     "text": [
      "<class 'pandas.core.frame.DataFrame'>\n",
      "RangeIndex: 10 entries, 0 to 9\n",
      "Data columns (total 2 columns):\n",
      " #   Column    Non-Null Count  Dtype \n",
      "---  ------    --------------  ----- \n",
      " 0   category  10 non-null     object\n",
      " 1   total     10 non-null     int64 \n",
      "dtypes: int64(1), object(1)\n",
      "memory usage: 288.0+ bytes\n"
     ]
    }
   ],
   "source": [
    "data.info()"
   ]
  },
  {
   "cell_type": "code",
   "execution_count": 18,
   "metadata": {},
   "outputs": [
    {
     "data": {
      "text/plain": [
       "<AxesSubplot: xlabel='category'>"
      ]
     },
     "execution_count": 18,
     "metadata": {},
     "output_type": "execute_result"
    },
    {
     "data": {
      "image/png": "[encoded data removed]",
      "text/plain": [
       "<Figure size 640x480 with 1 Axes>"
      ]
     },
     "metadata": {},
     "output_type": "display_data"
    }
   ],
   "source": [
    "data.plot.bar(x='category', y='total', rot=45)"
   ]
  },
  {
   "attachments": {},
   "cell_type": "markdown",
   "metadata": {},
   "source": [
    "Instead of the plot() function in pandas, we can create plots in any other way using, for example, matplotib or seaborn libraries."
   ]
  }
 ],
 "metadata": {
  "kernelspec": {
   "display_name": "pysql",
   "language": "python",
   "name": "python3"
  },
  "language_info": {
   "codemirror_mode": {
    "name": "ipython",
    "version": 3
   },
   "file_extension": ".py",
   "mimetype": "text/x-python",
   "name": "python",
   "nbconvert_exporter": "python",
   "pygments_lexer": "ipython3",
   "version": "3.8.5"
  },
  "orig_nbformat": 4,
  "vscode": {
   "interpreter": {
    "hash": "09d6e341777874bbc0cfccde3c6d0224cb07a66fa0664d1a9bec1a0ff68020ff"
   }
  }
 },
 "nbformat": 4,
 "nbformat_minor": 2
}
